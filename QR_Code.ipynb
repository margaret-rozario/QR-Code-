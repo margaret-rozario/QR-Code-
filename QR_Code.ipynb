{
  "nbformat": 4,
  "nbformat_minor": 0,
  "metadata": {
    "colab": {
      "provenance": []
    },
    "kernelspec": {
      "name": "python3",
      "display_name": "Python 3"
    },
    "language_info": {
      "name": "python"
    }
  },
  "cells": [
    {
      "cell_type": "code",
      "source": [
        "# Installing libraries \n",
        "!pip install pillow\n",
        "!pip install qrcode"
      ],
      "metadata": {
        "id": "Tk_uZrFR1raK",
        "colab": {
          "base_uri": "https://localhost:8080/"
        },
        "outputId": "b96a5512-f0cd-4af0-ecf9-0c3d4ef412d1"
      },
      "execution_count": 16,
      "outputs": [
        {
          "output_type": "stream",
          "name": "stdout",
          "text": [
            "Looking in indexes: https://pypi.org/simple, https://us-python.pkg.dev/colab-wheels/public/simple/\n",
            "Requirement already satisfied: pillow in /usr/local/lib/python3.8/dist-packages (7.1.2)\n",
            "Looking in indexes: https://pypi.org/simple, https://us-python.pkg.dev/colab-wheels/public/simple/\n",
            "Requirement already satisfied: qrcode in /usr/local/lib/python3.8/dist-packages (7.3.1)\n"
          ]
        }
      ]
    },
    {
      "cell_type": "code",
      "source": [
        "# Library import \n",
        "import qrcode"
      ],
      "metadata": {
        "id": "wJ17Y83TCA4T"
      },
      "execution_count": 17,
      "outputs": []
    },
    {
      "cell_type": "code",
      "source": [
        "# Link for website\n",
        "input_data = \"https://www.google.com\"\n",
        "#Creating an instance of qrcode\n",
        "qr = qrcode.QRCode(\n",
        "        version=1,\n",
        "        box_size=10,\n",
        "        border=3)\n",
        "qr.add_data(input_data)\n",
        "qr.make(fit=True)\n",
        "img = qr.make_image(fill_color='red', back_color='green')\n",
        "img.save('Google.png')"
      ],
      "metadata": {
        "id": "VqzdDOE61rdF"
      },
      "execution_count": 18,
      "outputs": []
    }
  ]
}